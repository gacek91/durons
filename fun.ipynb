{
 "cells": [
  {
   "cell_type": "code",
   "execution_count": 3,
   "metadata": {},
   "outputs": [],
   "source": [
    "import os, os.path as op, pandas as pd, numpy as np, re\n",
    "from glob import glob\n",
    "from functools import partial"
   ]
  },
  {
   "cell_type": "code",
   "execution_count": 4,
   "metadata": {},
   "outputs": [],
   "source": [
    "file = \"/Volumes/GoogleDrive/Mój dysk/packages/durons/logs/DEPHC_01-emreg_MIND_1_K.log\" # log file\n",
    "\n",
    "blocks =  'mindful|ogladaj' #each block starts with either a 'mindful' or a 'ogladaj' stimulus\n",
    "until = 'pytanie' #each block ends when a 'pytanie' stimulus happens\n",
    "codes = 'NEU|SAD' # we will be looking for durations and onsets for any stimulus that has \"NEU\" or \"SAD\" in its name\n",
    "\n",
    "sep = '\\t'\n",
    "skiprows = 3"
   ]
  },
  {
   "cell_type": "code",
   "execution_count": 9,
   "metadata": {},
   "outputs": [],
   "source": [
    "def stimuli_from_log(file, participant=None, sep = '\\t', skiprows = 3, sort = True):\n",
    "    \n",
    "    '''\n",
    "    Show all stimuli from the log file\n",
    "    \n",
    "    Parameters\n",
    "    ----------\n",
    "    \n",
    "    file : str\n",
    "        Directory to the log file\n",
    "    participant : str, default None\n",
    "        Participant's name - by default reads from the filepath until the first hyphen (-), for example: p55_332-task1.log -> p55_332\n",
    "    sep : str, default '\\t'\n",
    "        The separator used to read the log file\n",
    "    skiprows : int, default 3\n",
    "        Number of rows to skip in the log file\n",
    "    sort : bool, default True\n",
    "        Sort the stimuli names\n",
    "    \n",
    "    Returns\n",
    "    -------\n",
    "    \n",
    "    List\n",
    "        A list of stimuli that occured in the log file\n",
    "        \n",
    "    \n",
    "    '''\n",
    "    import pandas as pd\n",
    "    import os.path as op\n",
    "    if participant == None:\n",
    "        participant = op.split(file)[-1].split(\"-\")[0]\n",
    "    def fix_names(self):\n",
    "        'fix column names'\n",
    "        self = self.copy()\n",
    "        self.columns = self.columns.str.strip().str.lower().str.replace(' ', '_').str.replace('(', '').str.replace(')', '').str.replace('.','_')\n",
    "        return self\n",
    "    def exclude_nonsubj_data(self, participant):\n",
    "        'Exclude from the DataFrame any data that does not belong to the subject'\n",
    "        s = 'subject' in self.columns\n",
    "\n",
    "        #d = self.copy()\n",
    "        if s:\n",
    "            try:\n",
    "                self = self[self.subject == participant]\n",
    "            except:\n",
    "                self = self[self.subject == participant]\n",
    "        else:\n",
    "            try:\n",
    "                self = self[self.Subject == participant]\n",
    "            except:\n",
    "                self = self[self.Subject == participant]\n",
    "        return self\n",
    "    \n",
    "    data = pd.read_csv(file, sep = sep, skiprows = skiprows)\n",
    "    data.reset_index(inplace=True,drop=True)\n",
    "    data = fix_names(data)\n",
    "    data = exclude_nonsubj_data(data, participant = participant)\n",
    "    if sort:\n",
    "        stimuli = sorted(list(set(data.code)))\n",
    "    else:\n",
    "        stimuli = list(set(data.code))\n",
    "    return stimuli"
   ]
  },
  {
   "cell_type": "markdown",
   "metadata": {},
   "source": [
    "##### Get all the stimuli names from log files"
   ]
  },
  {
   "cell_type": "code",
   "execution_count": 12,
   "metadata": {},
   "outputs": [
    {
     "data": {
      "text/plain": [
       "['10',\n",
       " '111',\n",
       " '20',\n",
       " '3',\n",
       " '4',\n",
       " '5',\n",
       " '6',\n",
       " '7',\n",
       " 'Instrukcja',\n",
       " 'NEU1',\n",
       " 'NEU2',\n",
       " 'NEU3',\n",
       " 'NEU4',\n",
       " 'NEU5',\n",
       " 'NEU6',\n",
       " 'NEU7',\n",
       " 'NEU8',\n",
       " 'SAD1',\n",
       " 'SAD10',\n",
       " 'SAD11',\n",
       " 'SAD12',\n",
       " 'SAD2',\n",
       " 'SAD3',\n",
       " 'SAD4',\n",
       " 'SAD5',\n",
       " 'SAD6',\n",
       " 'SAD7',\n",
       " 'SAD8',\n",
       " 'SAD9',\n",
       " 'fix',\n",
       " 'mindful',\n",
       " 'ogladaj',\n",
       " 'pytanie',\n",
       " 'short_fix']"
      ]
     },
     "execution_count": 12,
     "metadata": {},
     "output_type": "execute_result"
    }
   ],
   "source": [
    "stimuli_from_log(file, participant=None, sep = '\\t', skiprows = 3, sort = True)"
   ]
  },
  {
   "cell_type": "code",
   "execution_count": 43,
   "metadata": {},
   "outputs": [],
   "source": [
    "def get_blocks(file, codes, blocks, until, participant=None, sep = '\\t', skiprows = 3, sort = True):\n",
    "    '''\n",
    "    Try to get all the stimuli that occur in defined blocks\n",
    "    \n",
    "    Parameters\n",
    "    ----------\n",
    "    \n",
    "    file : str\n",
    "        Directory to the log file\n",
    "    codes : list or regex\n",
    "        Names of the stimuli to be searched for within a block\n",
    "    blocks : list or regex\n",
    "        Names of the stimuli that mark the begining of a block\n",
    "    until : list or regex\n",
    "        Names of the stimuli that mark the end of a block\n",
    "    participant : str, default None\n",
    "        Participant's name - by default reads from the filepath until the first hyphen (-), for example: p55_332-task1.log -> p55_332\n",
    "    sep : str, default '\\t'\n",
    "        The separator used to read the log file\n",
    "    skiprows : int, default 3\n",
    "        Number of rows to skip in the log file\n",
    "    sort : bool, default True\n",
    "        Sort the stimuli names\n",
    "    \n",
    "    Returns\n",
    "    -------\n",
    "    \n",
    "    Dict\n",
    "        A dictionary with stimuli as keys and block names as values\n",
    "        \n",
    "    \n",
    "    '''\n",
    "    \n",
    "    \n",
    "    import pandas as pd\n",
    "    if participant == None:\n",
    "        participant = op.split(file)[-1].split(\"-\")[0]\n",
    "    def fix_names(self):\n",
    "        'fix column names'\n",
    "        self = self.copy()\n",
    "        self.columns = self.columns.str.strip().str.lower().str.replace(' ', '_').str.replace('(', '').str.replace(')', '').str.replace('.','_')\n",
    "        return self\n",
    "    def exclude_nonsubj_data(self, participant):\n",
    "        'Exclude from the DataFrame any data that does not belong to the subject'\n",
    "        s = 'subject' in self.columns\n",
    "\n",
    "        #d = self.copy()\n",
    "        if s:\n",
    "            try:\n",
    "                self = self[self.subject == participant]\n",
    "            except:\n",
    "                self = self[self.subject == participant]\n",
    "        else:\n",
    "            try:\n",
    "                self = self[self.Subject == participant]\n",
    "            except:\n",
    "                self = self[self.Subject == participant]\n",
    "        return self\n",
    "    \n",
    "    def pairwise(iterable):\n",
    "        from itertools import tee\n",
    "        \"s -> (s0,s1), (s1,s2), (s2, s3), ...\"\n",
    "        a, b = tee(iterable)\n",
    "        next(b, None)\n",
    "        return list(zip(a, b))\n",
    "    \n",
    "    def pairwise_idx(df, idx):\n",
    "        from itertools import tee\n",
    "        \"s -> (s0,s1), (s1,s2), (s2, s3), ...\"\n",
    "        idx = list(idx)\n",
    "        idx.append(data.index.max())\n",
    "        a, b = tee(idx)\n",
    "        next(b, None)\n",
    "        return list(zip(a, b))\n",
    "    \n",
    "    def list2regex(l, pipe = '|'):\n",
    "        if type(l) is list:\n",
    "            l = pipe.join(l)\n",
    "        else:\n",
    "            pass\n",
    "        return l\n",
    "    \n",
    "    data = pd.read_csv(file, sep = sep, skiprows = skiprows)\n",
    "\n",
    "    data = fix_names(data)\n",
    "    data = exclude_nonsubj_data(data, participant = participant)\n",
    "    data.reset_index(inplace=True,drop=True)\n",
    "    #data.code = data.code.str.lower()\n",
    "\n",
    "    codes = list2regex(codes)\n",
    "    blocks = list2regex(blocks)\n",
    "    until = list2regex(until)\n",
    "    \n",
    "    idx = data[data.code.str.contains(blocks, na=False)].index\n",
    "    pairs = pairwise_idx(data, idx)\n",
    "    \n",
    "    blocks_final = {}\n",
    "    for pair in pairs:\n",
    "        d_ = data.iloc[pair[0]:pair[1]]\n",
    "        task = d_.loc[pair[0]].code\n",
    "        for c in codes.split('|'):\n",
    "            if d_.code.str.contains(c).any():\n",
    "                for s in list(d_.code[d_.code.str.contains(c)]):\n",
    "                    blocks_final[s] = f\"{task}_{c}\"\n",
    "                    \n",
    "    if sort:\n",
    "        blocks_final = dict(sorted(blocks_final.items()))\n",
    "    return blocks_final"
   ]
  },
  {
   "cell_type": "markdown",
   "metadata": {},
   "source": [
    "##### Export all the stimuli from pre-defined blocks"
   ]
  },
  {
   "cell_type": "code",
   "execution_count": 46,
   "metadata": {},
   "outputs": [
    {
     "data": {
      "text/plain": [
       "{'NEU1': 'ogladaj_NEU',\n",
       " 'NEU2': 'ogladaj_NEU',\n",
       " 'NEU3': 'ogladaj_NEU',\n",
       " 'NEU4': 'ogladaj_NEU',\n",
       " 'NEU5': 'ogladaj_NEU',\n",
       " 'NEU6': 'ogladaj_NEU',\n",
       " 'NEU7': 'ogladaj_NEU',\n",
       " 'NEU8': 'ogladaj_NEU',\n",
       " 'SAD1': 'mindful_SAD',\n",
       " 'SAD10': 'ogladaj_SAD',\n",
       " 'SAD11': 'mindful_SAD',\n",
       " 'SAD12': 'mindful_SAD',\n",
       " 'SAD2': 'mindful_SAD',\n",
       " 'SAD3': 'mindful_SAD',\n",
       " 'SAD4': 'mindful_SAD',\n",
       " 'SAD5': 'mindful_SAD',\n",
       " 'SAD6': 'mindful_SAD',\n",
       " 'SAD7': 'ogladaj_SAD',\n",
       " 'SAD8': 'ogladaj_SAD',\n",
       " 'SAD9': 'ogladaj_SAD'}"
      ]
     },
     "execution_count": 46,
     "metadata": {},
     "output_type": "execute_result"
    }
   ],
   "source": [
    "get_blocks(file, codes, blocks, until, participant=None, sep = '\\t', skiprows = 3, sort = True)"
   ]
  },
  {
   "cell_type": "code",
   "execution_count": 52,
   "metadata": {},
   "outputs": [],
   "source": [
    "def durons(file, stimuli=None, participant=None, sep = '\\t', skiprows = 3, sort = True, s = True):\n",
    "\n",
    "    '''\n",
    "    Calculate durations and onsets in defined blocks\n",
    "    \n",
    "    Parameters\n",
    "    ----------\n",
    "    \n",
    "    file : str\n",
    "        Directory to the log file\n",
    "    stimuli : dict, default is None\n",
    "        A dictionary with {stimulus:block_name}. Takes all unique stimuli as separate blocks if no dict provided\n",
    "    participant : str, default None\n",
    "        Participant's name - by default reads from the filepath until the first hyphen (-), for example: p55_332-task1.log -> p55_332\n",
    "    sep : str, default '\\t'\n",
    "        The separator used to read the log file\n",
    "    skiprows : int, default 3\n",
    "        Number of rows to skip in the log file\n",
    "    sort : bool, default True\n",
    "        Sort the stimuli names\n",
    "    s : bool, default True\n",
    "        Calculate the times in seconds (divide the times by 10000)\n",
    "    \n",
    "    Returns\n",
    "    -------\n",
    "    \n",
    "    Dict of Pandas DataFrames\n",
    "        A dictionary with conditions as keys and Pandas DataFrames as values. Each DataFrame contains durations and onsets of the stimuli.\n",
    "        \n",
    "    \n",
    "    '''\n",
    "    \n",
    "    \n",
    "    import pandas as pd\n",
    "    \n",
    "    if participant == None:\n",
    "        participant = op.split(file)[-1].split(\"-\")[0]\n",
    "\n",
    "    \n",
    "    def fix_names(self):\n",
    "        'fix column names'\n",
    "        self = self.copy()\n",
    "        self.columns = self.columns.str.strip().str.lower().str.replace(' ', '_').str.replace('(', '').str.replace(')', '').str.replace('.','_')\n",
    "        return self\n",
    "    def exclude_nonsubj_data(self, participant):\n",
    "        'Exclude from the DataFrame any data that does not belong to the subject'\n",
    "        s = 'subject' in self.columns\n",
    "        if s:\n",
    "            try:\n",
    "                self = self[self.subject == participant]\n",
    "            except:\n",
    "                self = self[self.subject == participant]\n",
    "        else:\n",
    "            try:\n",
    "                self = self[self.Subject == participant]\n",
    "            except:\n",
    "                self = self[self.Subject == participant]\n",
    "        return self\n",
    "    \n",
    "    def calculate_times(self, s = True):\n",
    "        d = self\n",
    "        d.time = d.time.apply(lambda x: float(x))\n",
    "        d.duration = d.duration.apply(lambda x: float(x))\n",
    "        if s:\n",
    "            d.time = (d.time - d.time[d.event_type == 'Pulse'].iloc[0])/10000\n",
    "            d.duration = d.duration/10000\n",
    "        else:\n",
    "            d.time = (d.time - d.time[d.event_type == 'Pulse'].iloc[0])\n",
    "        d = d[d.time >= 0]\n",
    "        return d\n",
    "    \n",
    "    data = pd.read_csv(file, sep = sep, skiprows = skiprows)\n",
    "    data = fix_names(data)\n",
    "    data = exclude_nonsubj_data(data, participant = participant)\n",
    "    data = calculate_times(data, s = True)\n",
    "    data = data[['code','time','duration']].sort_values(by=['code', 'time']).reset_index(drop=True)\n",
    "    data.columns = ['names','onsets','durations']\n",
    "    if stimuli != None:\n",
    "        data.names = data.names.map(stimuli)\n",
    "    data = data.dropna()\n",
    "    data_temp = data.copy()\n",
    "    data = {}\n",
    "    for name in list(set(data_temp.names)):\n",
    "        data[name] = data_temp[data_temp.names == name][['onsets','durations']].sort_values(by='onsets').reset_index(drop=True)\n",
    "    if sort:\n",
    "        data = dict(sorted(data.items()))\n",
    "    return data"
   ]
  },
  {
   "cell_type": "markdown",
   "metadata": {},
   "source": [
    "##### calculate durations and onsets"
   ]
  },
  {
   "cell_type": "code",
   "execution_count": 53,
   "metadata": {},
   "outputs": [],
   "source": [
    "dur1 = durons(file, stimuli=None, participant=None, sep = '\\t', skiprows = 3, sort = True, s = True)"
   ]
  },
  {
   "cell_type": "code",
   "execution_count": 54,
   "metadata": {},
   "outputs": [
    {
     "data": {
      "text/plain": [
       "{'NEU1':    onsets  durations\n",
       " 0  3.0625    10.0167, 'NEU2':     onsets  durations\n",
       " 0  13.0959    10.0167, 'NEU3':      onsets  durations\n",
       " 0  219.0804    10.0167, 'NEU4':      onsets  durations\n",
       " 0  229.1138    10.0167, 'NEU5':      onsets  durations\n",
       " 0  348.6811    10.0167, 'NEU6':      onsets  durations\n",
       " 0  358.7145    10.0167, 'NEU7':      onsets  durations\n",
       " 0  132.6632    10.0167, 'NEU8':      onsets  durations\n",
       " 0  142.6966    10.0167, 'SAD1':     onsets  durations\n",
       " 0  46.2627    10.0167, 'SAD10':      onsets  durations\n",
       " 0  315.5142    10.0167, 'SAD11':      onsets  durations\n",
       " 0  262.2806    10.0167, 'SAD12':     onsets  durations\n",
       " 0  272.314    10.0167, 'SAD2':     onsets  durations\n",
       " 0  56.2961    10.0167, 'SAD3':      onsets  durations\n",
       " 0  175.8635    10.0167, 'SAD4':      onsets  durations\n",
       " 0  185.8969    10.0167, 'SAD5':      onsets  durations\n",
       " 0  391.8813    10.0167, 'SAD6':      onsets  durations\n",
       " 0  401.9147    10.0167, 'SAD7':    onsets  durations\n",
       " 0  89.463    10.0167, 'SAD8':     onsets  durations\n",
       " 0  99.4964    10.0167, 'SAD9':      onsets  durations\n",
       " 0  305.4809    10.0167, 'fix':      onsets  durations\n",
       " 0   40.1960     3.0167\n",
       " 1   83.3963     3.0167\n",
       " 2  126.5965     3.0167\n",
       " 3  169.7968     3.0167\n",
       " 4  212.9970     3.0167\n",
       " 5  256.2139     3.0167\n",
       " 6  299.4142     3.0167\n",
       " 7  342.6144     3.0167\n",
       " 8  385.8146     3.0167, 'mindful':      onsets  durations\n",
       " 0   43.2294     3.0167\n",
       " 1  172.8301     3.0167\n",
       " 2  259.2473     3.0167\n",
       " 3  388.8480     3.0167, 'ogladaj':      onsets  durations\n",
       " 0    0.0292     3.0167\n",
       " 1   86.4296     3.0167\n",
       " 2  129.6299     3.0167\n",
       " 3  216.0470     3.0167\n",
       " 4  302.4475     3.0167\n",
       " 5  345.6477     3.0167, 'short_fix':      onsets  durations\n",
       " 0   31.1460     1.0167\n",
       " 1   74.3462     1.0166\n",
       " 2  117.5465     1.0167\n",
       " 3  160.7467     1.0167\n",
       " 4  203.9470     1.0167\n",
       " 5  247.1639     1.0167\n",
       " 6  290.3641     1.0167\n",
       " 7  333.5643     1.0166\n",
       " 8  376.7646     1.0167\n",
       " 9  419.9648     1.0167}"
      ]
     },
     "execution_count": 54,
     "metadata": {},
     "output_type": "execute_result"
    }
   ],
   "source": [
    "dur1"
   ]
  },
  {
   "cell_type": "code",
   "execution_count": 55,
   "metadata": {},
   "outputs": [],
   "source": [
    "b = get_blocks(file, codes, blocks, until, participant=None, sep = '\\t', skiprows = 3, sort = True)"
   ]
  },
  {
   "cell_type": "code",
   "execution_count": 56,
   "metadata": {},
   "outputs": [],
   "source": [
    "dur2 = durons(file, stimuli=b, participant=None, sep = '\\t', skiprows = 3, sort = True, s = True)"
   ]
  },
  {
   "cell_type": "code",
   "execution_count": 57,
   "metadata": {},
   "outputs": [
    {
     "data": {
      "text/plain": [
       "{'mindful_SAD':      onsets  durations\n",
       " 0   46.2627    10.0167\n",
       " 1   56.2961    10.0167\n",
       " 2  175.8635    10.0167\n",
       " 3  185.8969    10.0167\n",
       " 4  262.2806    10.0167\n",
       " 5  272.3140    10.0167\n",
       " 6  391.8813    10.0167\n",
       " 7  401.9147    10.0167, 'ogladaj_NEU':      onsets  durations\n",
       " 0    3.0625    10.0167\n",
       " 1   13.0959    10.0167\n",
       " 2  132.6632    10.0167\n",
       " 3  142.6966    10.0167\n",
       " 4  219.0804    10.0167\n",
       " 5  229.1138    10.0167\n",
       " 6  348.6811    10.0167\n",
       " 7  358.7145    10.0167, 'ogladaj_SAD':      onsets  durations\n",
       " 0   89.4630    10.0167\n",
       " 1   99.4964    10.0167\n",
       " 2  305.4809    10.0167\n",
       " 3  315.5142    10.0167}"
      ]
     },
     "execution_count": 57,
     "metadata": {},
     "output_type": "execute_result"
    }
   ],
   "source": [
    "dur2"
   ]
  },
  {
   "cell_type": "code",
   "execution_count": 58,
   "metadata": {},
   "outputs": [
    {
     "data": {
      "text/html": [
       "<div>\n",
       "<style scoped>\n",
       "    .dataframe tbody tr th:only-of-type {\n",
       "        vertical-align: middle;\n",
       "    }\n",
       "\n",
       "    .dataframe tbody tr th {\n",
       "        vertical-align: top;\n",
       "    }\n",
       "\n",
       "    .dataframe thead th {\n",
       "        text-align: right;\n",
       "    }\n",
       "</style>\n",
       "<table border=\"1\" class=\"dataframe\">\n",
       "  <thead>\n",
       "    <tr style=\"text-align: right;\">\n",
       "      <th></th>\n",
       "      <th>onsets</th>\n",
       "      <th>durations</th>\n",
       "    </tr>\n",
       "  </thead>\n",
       "  <tbody>\n",
       "    <tr>\n",
       "      <th>0</th>\n",
       "      <td>3.0625</td>\n",
       "      <td>10.0167</td>\n",
       "    </tr>\n",
       "    <tr>\n",
       "      <th>1</th>\n",
       "      <td>13.0959</td>\n",
       "      <td>10.0167</td>\n",
       "    </tr>\n",
       "    <tr>\n",
       "      <th>2</th>\n",
       "      <td>132.6632</td>\n",
       "      <td>10.0167</td>\n",
       "    </tr>\n",
       "    <tr>\n",
       "      <th>3</th>\n",
       "      <td>142.6966</td>\n",
       "      <td>10.0167</td>\n",
       "    </tr>\n",
       "    <tr>\n",
       "      <th>4</th>\n",
       "      <td>219.0804</td>\n",
       "      <td>10.0167</td>\n",
       "    </tr>\n",
       "    <tr>\n",
       "      <th>5</th>\n",
       "      <td>229.1138</td>\n",
       "      <td>10.0167</td>\n",
       "    </tr>\n",
       "    <tr>\n",
       "      <th>6</th>\n",
       "      <td>348.6811</td>\n",
       "      <td>10.0167</td>\n",
       "    </tr>\n",
       "    <tr>\n",
       "      <th>7</th>\n",
       "      <td>358.7145</td>\n",
       "      <td>10.0167</td>\n",
       "    </tr>\n",
       "  </tbody>\n",
       "</table>\n",
       "</div>"
      ],
      "text/plain": [
       "     onsets  durations\n",
       "0    3.0625    10.0167\n",
       "1   13.0959    10.0167\n",
       "2  132.6632    10.0167\n",
       "3  142.6966    10.0167\n",
       "4  219.0804    10.0167\n",
       "5  229.1138    10.0167\n",
       "6  348.6811    10.0167\n",
       "7  358.7145    10.0167"
      ]
     },
     "execution_count": 58,
     "metadata": {},
     "output_type": "execute_result"
    }
   ],
   "source": [
    "dur2['ogladaj_NEU']"
   ]
  },
  {
   "cell_type": "code",
   "execution_count": 102,
   "metadata": {},
   "outputs": [],
   "source": [
    "def durons_savemat(durons_dict, filename, sort = True, output = False):\n",
    "    '''\n",
    "    Export durations and onsets to a .mat file\n",
    "    \n",
    "    Parameters\n",
    "    ----------\n",
    "    \n",
    "    durons_dict : dict\n",
    "        Dictionary of Pandas DataFrames with durations and onsets\n",
    "    filename : str\n",
    "        Filename or path where the mat file will be saved\n",
    "    sort : bool or list, default True\n",
    "        Sort the file alphabetically or with a pre-defined order\n",
    "    output : bool, default False\n",
    "        Show the final dictionary of arrays to be saved to the .mat file\n",
    "    '''\n",
    "    from scipy.io import savemat\n",
    "    mat = {}\n",
    "    \n",
    "    if sort:\n",
    "        names = sorted(durons_dict.keys())\n",
    "    if not sort:\n",
    "        names = durons_dict.keys()\n",
    "    elif type(sort) is list:\n",
    "        names = sort\n",
    "    \n",
    "    mat[\"names\"] = np.array([t for t in names],dtype=\"object\")\n",
    "    mat[\"durations\"] = np.array([np.array([t for t in durons_dict[condition]['durations']]) for condition in mat['names']])\n",
    "    mat[\"onsets\"] = np.array([np.array([t for t in durons_dict[condition]['onsets']]) for condition in mat['names']])\n",
    "    savemat(file_name = filename, mdict = mat)\n",
    "    if output:\n",
    "        return mat"
   ]
  },
  {
   "cell_type": "code",
   "execution_count": 103,
   "metadata": {},
   "outputs": [],
   "source": [
    "file = \"/Volumes/GoogleDrive/Mój dysk/packages/durons/logs/DEPHC_01-emreg_MIND_1_K.log\" # log file"
   ]
  },
  {
   "cell_type": "code",
   "execution_count": 104,
   "metadata": {},
   "outputs": [],
   "source": [
    "mat_filename = file.split('.')[0] + '.mat'"
   ]
  },
  {
   "cell_type": "markdown",
   "metadata": {},
   "source": [
    "##### export the duration and onset values into MATLAB and SPM-ready .mat file"
   ]
  },
  {
   "cell_type": "code",
   "execution_count": 105,
   "metadata": {},
   "outputs": [
    {
     "data": {
      "text/plain": [
       "{'names': array(['mindful_SAD', 'ogladaj_NEU', 'ogladaj_SAD'], dtype=object),\n",
       " 'durations': array([array([10.0167, 10.0167, 10.0167, 10.0167, 10.0167, 10.0167, 10.0167,\n",
       "        10.0167]),\n",
       "        array([10.0167, 10.0167, 10.0167, 10.0167, 10.0167, 10.0167, 10.0167,\n",
       "        10.0167]),\n",
       "        array([10.0167, 10.0167, 10.0167, 10.0167])], dtype=object),\n",
       " 'onsets': array([array([ 46.2627,  56.2961, 175.8635, 185.8969, 262.2806, 272.314 ,\n",
       "        391.8813, 401.9147]),\n",
       "        array([  3.0625,  13.0959, 132.6632, 142.6966, 219.0804, 229.1138,\n",
       "        348.6811, 358.7145]),\n",
       "        array([ 89.463 ,  99.4964, 305.4809, 315.5142])], dtype=object)}"
      ]
     },
     "execution_count": 105,
     "metadata": {},
     "output_type": "execute_result"
    }
   ],
   "source": [
    "durons_savemat(durons_dict=dur2, filename=mat_filename, sort = True, output=True)"
   ]
  },
  {
   "cell_type": "code",
   "execution_count": 88,
   "metadata": {},
   "outputs": [
    {
     "data": {
      "text/plain": [
       "{'names': array(['mindful_SAD', 'ogladaj_NEU', 'ogladaj_SAD'], dtype=object),\n",
       " 'durations': array([array([10.0167, 10.0167, 10.0167, 10.0167, 10.0167, 10.0167, 10.0167,\n",
       "        10.0167]),\n",
       "        array([10.0167, 10.0167, 10.0167, 10.0167, 10.0167, 10.0167, 10.0167,\n",
       "        10.0167]),\n",
       "        array([10.0167, 10.0167, 10.0167, 10.0167])], dtype=object),\n",
       " 'onsets': array([array([ 46.2627,  56.2961, 175.8635, 185.8969, 262.2806, 272.314 ,\n",
       "        391.8813, 401.9147]),\n",
       "        array([  3.0625,  13.0959, 132.6632, 142.6966, 219.0804, 229.1138,\n",
       "        348.6811, 358.7145]),\n",
       "        array([ 89.463 ,  99.4964, 305.4809, 315.5142])], dtype=object)}"
      ]
     },
     "execution_count": 88,
     "metadata": {},
     "output_type": "execute_result"
    }
   ],
   "source": [
    "durons_savemat(durons_dict=dur2, filename=mat_filename, sort = False, output=True)"
   ]
  },
  {
   "cell_type": "code",
   "execution_count": 89,
   "metadata": {},
   "outputs": [
    {
     "data": {
      "text/plain": [
       "{'names': array(['ogladaj_NEU', 'ogladaj_SAD', 'mindful_SAD'], dtype=object),\n",
       " 'durations': array([array([10.0167, 10.0167, 10.0167, 10.0167, 10.0167, 10.0167, 10.0167,\n",
       "        10.0167]),\n",
       "        array([10.0167, 10.0167, 10.0167, 10.0167]),\n",
       "        array([10.0167, 10.0167, 10.0167, 10.0167, 10.0167, 10.0167, 10.0167,\n",
       "        10.0167])], dtype=object),\n",
       " 'onsets': array([array([  3.0625,  13.0959, 132.6632, 142.6966, 219.0804, 229.1138,\n",
       "        348.6811, 358.7145]),\n",
       "        array([ 89.463 ,  99.4964, 305.4809, 315.5142]),\n",
       "        array([ 46.2627,  56.2961, 175.8635, 185.8969, 262.2806, 272.314 ,\n",
       "        391.8813, 401.9147])], dtype=object)}"
      ]
     },
     "execution_count": 89,
     "metadata": {},
     "output_type": "execute_result"
    }
   ],
   "source": [
    "durons_savemat(durons_dict=dur2, filename=mat_filename, sort = ['ogladaj_NEU', 'ogladaj_SAD', 'mindful_SAD'], output=True)"
   ]
  }
 ],
 "metadata": {
  "kernelspec": {
   "display_name": "Python 3",
   "language": "python",
   "name": "python3"
  },
  "language_info": {
   "codemirror_mode": {
    "name": "ipython",
    "version": 3
   },
   "file_extension": ".py",
   "mimetype": "text/x-python",
   "name": "python",
   "nbconvert_exporter": "python",
   "pygments_lexer": "ipython3",
   "version": "3.7.5"
  }
 },
 "nbformat": 4,
 "nbformat_minor": 4
}
